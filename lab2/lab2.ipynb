{
 "cells": [
  {
   "metadata": {},
   "cell_type": "markdown",
   "source": [
    "Лабораторна робота 2.\n",
    "Виконала студентка групи ФБ-35 Дедяєва Софія"
   ],
   "id": "5c240bc6ad9cdde3"
  },
  {
   "metadata": {
    "ExecuteTime": {
     "end_time": "2025-04-22T13:30:24.473923Z",
     "start_time": "2025-04-22T13:30:22.954252Z"
    }
   },
   "cell_type": "code",
   "source": [
    "import urllib.request\n",
    "import pandas as pd\n",
    "import os\n",
    "from datetime import datetime\n",
    "\n",
    "print(\"Setup complete\")\n",
    "\n"
   ],
   "id": "e4d2577be1b779d2",
   "outputs": [
    {
     "name": "stdout",
     "output_type": "stream",
     "text": [
      "Setup complete\n"
     ]
    }
   ],
   "execution_count": 2
  },
  {
   "metadata": {},
   "cell_type": "markdown",
   "source": "Для кожної із адміністративних одиниць України завантажити тестові структуровані файли, що містять значення VHI-індексу. Ця процедура має бути автоматизована, параметром процедури має бути індекс(номер) області. При зберіганні файлу до його імені потрібно додати дату та час завантаження;",
   "id": "9a7d125e2ae1350c"
  },
  {
   "metadata": {
    "ExecuteTime": {
     "end_time": "2025-04-22T13:30:26.280310Z",
     "start_time": "2025-04-22T13:30:26.269218Z"
    }
   },
   "cell_type": "code",
   "source": [
    "def download_vhi_data(region_id):\n",
    "    folder_path = 'C:/Dediaieva/Python'\n",
    "    os.makedirs(folder_path, exist_ok=True)\n",
    "\n",
    "    try:\n",
    "        for filename in os.listdir(folder_path):\n",
    "            if f\"_{region_id}_\" in filename:\n",
    "                print(f\"[{region_id}] вже завантажено. Пропуск.\")\n",
    "                return\n",
    "    except Exception as e:\n",
    "        print(f\"Помилка перевірки файлів: {e}\")\n",
    "\n",
    "    base_url = (\n",
    "        \"https://www.star.nesdis.noaa.gov/smcd/emb/vci/VH/get_TS_admin.php?\"\n",
    "        f\"country=UKR&provinceID={region_id}&year1=1981&year2=2024&type=Mean\"\n",
    "    )\n",
    "\n",
    "    try:\n",
    "        response = urllib.request.urlopen(base_url)\n",
    "        content = response.read()\n",
    "\n",
    "        now = datetime.now().strftime(\"%d%m%Y%H%M%S\")\n",
    "        filename = f\"vhi_region_{region_id}_{now}.csv\"\n",
    "        filepath = os.path.join(folder_path, filename)\n",
    "\n",
    "        with open(filepath, 'wb') as file:\n",
    "            file.write(content)\n",
    "\n",
    "        print(f\"[{region_id}] Завантажено успішно: {filename}\")\n",
    "    except Exception as e:\n",
    "        print(f\"[{region_id}] Помилка при завантаженні: {e}\")\n",
    "\n",
    "for i in range(1, 26):\n",
    "    download_vhi_data(i)\n"
   ],
   "id": "2c1ba2520d6f2a72",
   "outputs": [
    {
     "name": "stdout",
     "output_type": "stream",
     "text": [
      "[1] вже завантажено. Пропуск.\n",
      "[2] вже завантажено. Пропуск.\n",
      "[3] вже завантажено. Пропуск.\n",
      "[4] вже завантажено. Пропуск.\n",
      "[5] вже завантажено. Пропуск.\n",
      "[6] вже завантажено. Пропуск.\n",
      "[7] вже завантажено. Пропуск.\n",
      "[8] вже завантажено. Пропуск.\n",
      "[9] вже завантажено. Пропуск.\n",
      "[10] вже завантажено. Пропуск.\n",
      "[11] вже завантажено. Пропуск.\n",
      "[12] вже завантажено. Пропуск.\n",
      "[13] вже завантажено. Пропуск.\n",
      "[14] вже завантажено. Пропуск.\n",
      "[15] вже завантажено. Пропуск.\n",
      "[16] вже завантажено. Пропуск.\n",
      "[17] вже завантажено. Пропуск.\n",
      "[18] вже завантажено. Пропуск.\n",
      "[19] вже завантажено. Пропуск.\n",
      "[20] вже завантажено. Пропуск.\n",
      "[21] вже завантажено. Пропуск.\n",
      "[22] вже завантажено. Пропуск.\n",
      "[23] вже завантажено. Пропуск.\n",
      "[24] вже завантажено. Пропуск.\n",
      "[25] вже завантажено. Пропуск.\n"
     ]
    }
   ],
   "execution_count": 3
  },
  {
   "metadata": {},
   "cell_type": "markdown",
   "source": [
    "Зчитати завантажені текстові файли у фрейм (детальніше про роботу із фреймами буде розказано у подальших лабораторних роботах).\n",
    "Імена стовбців фрейму мають бути змістовними та легкими для сприйняття (не повинно бути спеціалізованих символів, пробілів тощо).Ця задача має бути реалізована у вигляді окремої процедури, яка на вхід приймає шлях до директорії, в якій зберігаються файли;"
   ],
   "id": "fa4faf9bfcc2c796"
  },
  {
   "metadata": {
    "ExecuteTime": {
     "end_time": "2025-04-21T22:17:33.373982Z",
     "start_time": "2025-04-21T22:17:33.237055Z"
    }
   },
   "cell_type": "code",
   "source": [
    "def read_vhi_csv_folder(folder_path):\n",
    "    columns = ['Year', 'Week', 'SMN', 'SMT', 'VCI', 'TCI', 'VHI', 'Empty']\n",
    "    combined_data = []\n",
    "\n",
    "    for csv_file in os.listdir(folder_path):\n",
    "        if not csv_file.startswith('vhi_region_'):\n",
    "            continue\n",
    "\n",
    "        full_path = os.path.join(folder_path, csv_file)\n",
    "\n",
    "        try:\n",
    "            df = pd.read_csv(full_path, header=1, names=columns)\n",
    "\n",
    "            region_code = int(csv_file.split('_')[2])\n",
    "\n",
    "            df = df[df['VHI'] != -1]\n",
    "\n",
    "            df['Region'] = region_code\n",
    "\n",
    "            combined_data.append(df)\n",
    "\n",
    "        except Exception as err:\n",
    "            print(f\"Проблема з файлом {csv_file}: {err}\")\n",
    "\n",
    "    if not combined_data:\n",
    "        print(\"Жодного файлу не оброблено.\")\n",
    "        return pd.DataFrame()\n",
    "\n",
    "    result_df = pd.concat(combined_data, ignore_index=True).drop_duplicates().reset_index(drop=True)\n",
    "\n",
    "    result_df = result_df.drop(columns='Empty')\n",
    "\n",
    "    result_df['Year'] = result_df['Year'].astype(str)\\\n",
    "        .str.replace('<tt><pre>', '', regex=False)\\\n",
    "        .str.replace('</pre></tt>', '', regex=False)\\\n",
    "        .str.strip()\n",
    "\n",
    "    result_df = result_df[(result_df['Year'] != '') & (result_df['Week'] != '')]\n",
    "\n",
    "    result_df['Year'] = result_df['Year'].astype(int)\n",
    "    result_df['Week'] = result_df['Week'].astype(int)\n",
    "    result_df['Region'] = result_df['Region'].astype(int)\n",
    "\n",
    "    return result_df\n",
    "\n",
    "df_vhi = read_vhi_csv_folder('C:/Dediaieva/Python')\n",
    "print(df_vhi)\n"
   ],
   "id": "28d311c8691e2cdf",
   "outputs": [
    {
     "name": "stdout",
     "output_type": "stream",
     "text": [
      "       Year  Week    SMN     SMT    VCI    TCI    VHI  Region\n",
      "0      1982     1  0.059  258.24  51.11  48.78  49.95      10\n",
      "1      1982     2  0.063  261.53  55.89  38.20  47.04      10\n",
      "2      1982     3  0.063  263.45  57.30  32.69  44.99      10\n",
      "3      1982     4  0.061  265.10  53.96  28.62  41.29      10\n",
      "4      1982     5  0.058  266.42  46.87  28.57  37.72      10\n",
      "...     ...   ...    ...     ...    ...    ...    ...     ...\n",
      "54669  2024    48  0.135  278.17  55.23  11.86  33.55       9\n",
      "54670  2024    49  0.133  277.08  57.71  10.86  34.29       9\n",
      "54671  2024    50  0.130  276.49  59.45   8.68  34.07       9\n",
      "54672  2024    51  0.128  276.45  62.53   5.55  34.04       9\n",
      "54673  2024    52  0.129  276.48  66.13   3.71  34.92       9\n",
      "\n",
      "[54650 rows x 8 columns]\n"
     ]
    }
   ],
   "execution_count": 35
  },
  {
   "metadata": {},
   "cell_type": "markdown",
   "source": [
    "Реалізувати окрему процедуру, яка змінить індекси областей, які використані на\n",
    "порталі NOAA (за англійською абеткою) на наступні, за українською (виключно\n",
    "старі індекси на нові):"
   ],
   "id": "ff1dc686c9b756"
  },
  {
   "metadata": {
    "ExecuteTime": {
     "end_time": "2025-04-21T22:20:06.953255Z",
     "start_time": "2025-04-21T22:20:06.935227Z"
    }
   },
   "cell_type": "code",
   "source": [
    "def rename_regions_to_ukrainian_order(df, region_column=\"Region\"):\n",
    "\n",
    "    noaa_to_ua_index = {\n",
    "        1: 24,  2: 25,  3: 26,  4: 27,  5: 2,   6: 3,   7: 8,   8: 7,\n",
    "        9: 12, 10: 20, 11: 9,  12: 10, 13: 17, 14: 13, 15: 18, 16: 11,\n",
    "        17: 14, 18: 15, 19: 16, 20: 19, 21: 21, 22: 1,  23: 22, 24: 6,\n",
    "        25: 5,  26: 23, 27: 4\n",
    "    }\n",
    "\n",
    "\n",
    "    df[region_column] = df[region_column].map(noaa_to_ua_index).fillna(df[region_column]).astype(int)\n",
    "    return df\n",
    "\n",
    "converted_df = rename_regions_to_ukrainian_order(df_vhi)\n",
    "print(converted_df)\n"
   ],
   "id": "ecfbe6df9ab7040",
   "outputs": [
    {
     "name": "stdout",
     "output_type": "stream",
     "text": [
      "       Year  Week    SMN     SMT    VCI    TCI    VHI  Region\n",
      "0      1982     1  0.059  258.24  51.11  48.78  49.95      20\n",
      "1      1982     2  0.063  261.53  55.89  38.20  47.04      20\n",
      "2      1982     3  0.063  263.45  57.30  32.69  44.99      20\n",
      "3      1982     4  0.061  265.10  53.96  28.62  41.29      20\n",
      "4      1982     5  0.058  266.42  46.87  28.57  37.72      20\n",
      "...     ...   ...    ...     ...    ...    ...    ...     ...\n",
      "54669  2024    48  0.135  278.17  55.23  11.86  33.55      12\n",
      "54670  2024    49  0.133  277.08  57.71  10.86  34.29      12\n",
      "54671  2024    50  0.130  276.49  59.45   8.68  34.07      12\n",
      "54672  2024    51  0.128  276.45  62.53   5.55  34.04      12\n",
      "54673  2024    52  0.129  276.48  66.13   3.71  34.92      12\n",
      "\n",
      "[54650 rows x 8 columns]\n"
     ]
    }
   ],
   "execution_count": 36
  },
  {
   "metadata": {},
   "cell_type": "markdown",
   "source": [
    "Реалізувати процедури для формування вибірок наступного виду\n",
    "(включаючи елементи аналізу):\n"
   ],
   "id": "3eb90c6c873432b1"
  },
  {
   "metadata": {},
   "cell_type": "markdown",
   "source": "o Ряд VHI для області за вказаний рік;",
   "id": "659fb7f56a4295f4"
  },
  {
   "metadata": {
    "ExecuteTime": {
     "end_time": "2025-04-21T23:21:08.198664Z",
     "start_time": "2025-04-21T23:21:08.178974Z"
    }
   },
   "cell_type": "code",
   "source": [
    "def extract_vhi_range(df, region_ids, year_start, year_end):\n",
    "    for region_id in region_ids:\n",
    "        print(f\"Region {region_id}:\")\n",
    "        vhi_data = df[(df['Region'] == region_id) & (df['Year'].between(year_start, year_end))]\n",
    "\n",
    "        if not vhi_data.empty:\n",
    "            print(vhi_data)\n",
    "        else:\n",
    "            print(f\"No data available for region {region_id} for years {year_start}-{year_end}\")\n",
    "        print(\"\\n\")\n",
    "\n",
    "extract_vhi_range(converted_df, [3, 7, 14], 2000, 2005)\n",
    "\n"
   ],
   "id": "dcab109a3100dc7e",
   "outputs": [
    {
     "name": "stdout",
     "output_type": "stream",
     "text": [
      "Region 3:\n",
      "       Year  Week    SMN     SMT    VCI    TCI    VHI  Region\n",
      "46833  2000     1  0.033  260.79  36.37  29.86  33.12       3\n",
      "46834  2000     2  0.033  260.71  37.98  30.31  34.14       3\n",
      "46835  2000     3  0.033  259.80  38.49  35.47  36.98       3\n",
      "46836  2000     4  0.033  259.54  38.18  40.13  39.16       3\n",
      "46837  2000     5  0.033  260.15  36.21  42.86  39.54       3\n",
      "...     ...   ...    ...     ...    ...    ...    ...     ...\n",
      "47120  2005    48  0.065  267.68  38.99  27.90  33.44       3\n",
      "47121  2005    49  0.061  264.65  39.38  30.15  34.77       3\n",
      "47122  2005    50  0.057  263.70  40.59  25.81  33.20       3\n",
      "47123  2005    51  0.055  263.21  47.96  23.80  35.88       3\n",
      "47124  2005    52  0.054  262.60  56.48  23.88  40.18       3\n",
      "\n",
      "[292 rows x 8 columns]\n",
      "\n",
      "\n",
      "Region 7:\n",
      "       Year  Week    SMN     SMT    VCI    TCI    VHI  Region\n",
      "51207  2000     1  0.030  260.15  33.49  28.46  30.98       7\n",
      "51208  2000     2  0.029  259.92  33.08  30.02  31.55       7\n",
      "51209  2000     3  0.028  259.13  32.67  34.08  33.38       7\n",
      "51210  2000     4  0.028  259.03  32.20  39.00  35.60       7\n",
      "51211  2000     5  0.028  258.91  28.79  47.15  37.97       7\n",
      "...     ...   ...    ...     ...    ...    ...    ...     ...\n",
      "51494  2005    48  0.075  264.78  46.96  43.34  45.15       7\n",
      "51495  2005    49  0.066  261.67  48.28  49.77  49.03       7\n",
      "51496  2005    50  0.061  260.41  50.09  42.96  46.52       7\n",
      "51497  2005    51  0.057  259.60  53.11  39.13  46.12       7\n",
      "51498  2005    52  0.053  258.53  57.43  38.84  48.14       7\n",
      "\n",
      "[292 rows x 8 columns]\n",
      "\n",
      "\n",
      "Region 14:\n",
      "       Year  Week    SMN     SMT    VCI    TCI    VHI  Region\n",
      "16215  2000     1  0.025  259.67   9.21  59.93  34.57      14\n",
      "16216  2000     2  0.026  258.80  13.74  63.03  38.38      14\n",
      "16217  2000     3  0.025  259.13  15.26  61.26  38.26      14\n",
      "16218  2000     4  0.026  259.72  16.74  59.57  38.16      14\n",
      "16219  2000     5  0.030  260.75  18.67  57.74  38.20      14\n",
      "...     ...   ...    ...     ...    ...    ...    ...     ...\n",
      "16502  2005    48  0.083  273.12  37.73  36.68  37.20      14\n",
      "16503  2005    49  0.076  270.61  38.64  38.67  38.65      14\n",
      "16504  2005    50  0.071  268.32  39.21  39.31  39.26      14\n",
      "16505  2005    51  0.066  266.09  38.74  42.49  40.61      14\n",
      "16506  2005    52  0.061  263.96  35.39  46.91  41.15      14\n",
      "\n",
      "[292 rows x 8 columns]\n",
      "\n",
      "\n"
     ]
    }
   ],
   "execution_count": 40
  },
  {
   "metadata": {},
   "cell_type": "markdown",
   "source": [
    "o Пошук екстремумів (min та max) для вказаних областей та років,\n",
    "середнього, медіани;"
   ],
   "id": "8cb06f403811a7bd"
  },
  {
   "metadata": {
    "ExecuteTime": {
     "end_time": "2025-04-21T23:28:29.163748Z",
     "start_time": "2025-04-21T23:28:29.149044Z"
    }
   },
   "cell_type": "code",
   "source": [
    "def vhi_statistics(df, regions, years):\n",
    "    for region in regions:\n",
    "        for year in years:\n",
    "            subset = df[(df['Region'] == region) & (df['Year'] == year) & (df['VHI'] != -1)]\n",
    "\n",
    "            if subset.empty:\n",
    "                print(f\"No data for Region {region} in {year}\\n\")\n",
    "                continue\n",
    "\n",
    "            vhi_values = subset['VHI']\n",
    "            print(f\"Region {region}, Year {year}:\")\n",
    "            print(f\"   Minimum VHI:  {vhi_values.min():.2f}\")\n",
    "            print(f\"   Maximum VHI:  {vhi_values.max():.2f}\")\n",
    "            print(f\"   Mean VHI:     {vhi_values.mean():.2f}\")\n",
    "            print(f\"   Median VHI:   {vhi_values.median():.2f}\")\n",
    "            print()\n",
    "\n",
    "vhi_statistics(converted_df, [3, 7, 14], [2000, 2005])\n"
   ],
   "id": "60c4cbdef2412781",
   "outputs": [
    {
     "name": "stdout",
     "output_type": "stream",
     "text": [
      "Region 3, Year 2000:\n",
      "   Minimum VHI:  17.40\n",
      "   Maximum VHI:  69.82\n",
      "   Mean VHI:     45.83\n",
      "   Median VHI:   43.62\n",
      "\n",
      "Region 3, Year 2005:\n",
      "   Minimum VHI:  31.86\n",
      "   Maximum VHI:  76.84\n",
      "   Mean VHI:     50.55\n",
      "   Median VHI:   50.19\n",
      "\n",
      "Region 7, Year 2000:\n",
      "   Minimum VHI:  9.36\n",
      "   Maximum VHI:  68.45\n",
      "   Mean VHI:     41.39\n",
      "   Median VHI:   40.36\n",
      "\n",
      "Region 7, Year 2005:\n",
      "   Minimum VHI:  38.47\n",
      "   Maximum VHI:  77.32\n",
      "   Mean VHI:     57.93\n",
      "   Median VHI:   54.79\n",
      "\n",
      "Region 14, Year 2000:\n",
      "   Minimum VHI:  17.83\n",
      "   Maximum VHI:  53.87\n",
      "   Mean VHI:     39.53\n",
      "   Median VHI:   38.89\n",
      "\n",
      "Region 14, Year 2005:\n",
      "   Minimum VHI:  31.95\n",
      "   Maximum VHI:  72.12\n",
      "   Mean VHI:     49.22\n",
      "   Median VHI:   45.05\n",
      "\n"
     ]
    }
   ],
   "execution_count": 42
  },
  {
   "metadata": {},
   "cell_type": "markdown",
   "source": [
    "o Для всього набору даних виявити роки, протягом яких екстремальні\n",
    "посухи торкнулися більше вказаного відсотка областей по Україні (20%\n",
    "областей - 5 областей з 25). Повернути роки, назви областей з\n",
    "екстремальними посухами та значення VHI;"
   ],
   "id": "42fc0cdd86af433c"
  },
  {
   "metadata": {
    "ExecuteTime": {
     "end_time": "2025-04-21T23:39:48.905457Z",
     "start_time": "2025-04-21T23:39:48.870404Z"
    }
   },
   "cell_type": "code",
   "source": [
    "def drought_report(df, percent_threshold):\n",
    "    total_regions = df['Region'].nunique()\n",
    "    drought_results = {}\n",
    "\n",
    "    for year in range(df['Year'].min(), df['Year'].max() + 1):\n",
    "        drought_entries = df[(df['Year'] == year) & (df['VHI'] < 15)]\n",
    "        affected_regions = drought_entries['Region'].unique()\n",
    "\n",
    "        if len(affected_regions) > total_regions * (percent_threshold / 100):\n",
    "            drought_results[year] = {\n",
    "                'regions': [int(r) for r in affected_regions],\n",
    "                'vhi': [round(v, 2) for v in drought_entries['VHI']]\n",
    "            }\n",
    "\n",
    "    if drought_results:\n",
    "        print(f\"Years with extreme drought affecting more than {percent_threshold}% of the regions in Ukraine:\\n\")\n",
    "        for year, values in drought_results.items():\n",
    "            print(f\"Year: {year}\")\n",
    "            print(f\"Regions: {values['regions']}\")\n",
    "            print(f\"VHI: {values['vhi']}\\n\")\n",
    "    else:\n",
    "        print(f\"No years found where more than {percent_threshold}% of the regions experienced extreme drought.\")\n",
    "\n",
    "drought_report(converted_df, 5)\n",
    "\n"
   ],
   "id": "bb62b6b1f33019de",
   "outputs": [
    {
     "name": "stdout",
     "output_type": "stream",
     "text": [
      "Years with extreme drought affecting more than 5% of the regions in Ukraine:\n",
      "\n",
      "Year: 1986\n",
      "Regions: [13, 3]\n",
      "VHI: [14.07, 12.45, 12.57, 14.99]\n",
      "\n",
      "Year: 1993\n",
      "Regions: [13, 3]\n",
      "VHI: [14.43, 13.1, 14.71, 11.34, 8.02, 6.26, 7.45, 11.29]\n",
      "\n",
      "Year: 2000\n",
      "Regions: [9, 10, 24, 19, 6, 7]\n",
      "VHI: [12.51, 10.6, 11.2, 12.32, 14.65, 14.89, 12.76, 7.81, 6.49, 6.58, 6.71, 7.56, 9.25, 10.94, 12.28, 14.64, 11.82, 10.81, 10.68, 12.3, 14.24, 13.14, 9.5, 8.14, 9.69, 11.2, 11.36, 12.77, 12.26, 11.28, 11.25, 11.38, 12.91, 14.2, 14.61, 11.33, 9.36, 9.45, 9.73, 11.45, 14.29]\n",
      "\n",
      "Year: 2007\n",
      "Regions: [11, 14, 27, 12]\n",
      "VHI: [11.44, 7.78, 6.44, 6.12, 6.11, 5.94, 6.36, 7.61, 9.45, 11.7, 11.88, 9.21, 7.08, 5.9, 5.52, 5.85, 6.82, 8.86, 11.91, 14.98, 14.23, 13.79, 13.41, 13.28, 14.36, 12.41, 12.23, 12.99, 13.33, 12.88, 12.63, 12.96, 13.48, 14.05, 14.41, 14.81]\n",
      "\n"
     ]
    }
   ],
   "execution_count": 46
  }
 ],
 "metadata": {
  "kernelspec": {
   "display_name": "Python 3",
   "language": "python",
   "name": "python3"
  },
  "language_info": {
   "codemirror_mode": {
    "name": "ipython",
    "version": 2
   },
   "file_extension": ".py",
   "mimetype": "text/x-python",
   "name": "python",
   "nbconvert_exporter": "python",
   "pygments_lexer": "ipython2",
   "version": "2.7.6"
  }
 },
 "nbformat": 4,
 "nbformat_minor": 5
}
